{
 "cells": [
  {
   "cell_type": "markdown",
   "metadata": {},
   "source": [
    "# Extract data from Lyrics Wiki"
   ]
  },
  {
   "cell_type": "code",
   "execution_count": 1,
   "metadata": {},
   "outputs": [],
   "source": [
    "%load_ext autoreload\n",
    "%autoreload 2"
   ]
  },
  {
   "cell_type": "code",
   "execution_count": 2,
   "metadata": {},
   "outputs": [],
   "source": [
    "import requests\n",
    "import bs4\n",
    "import urllib\n",
    "import time\n",
    "import unidecode\n",
    "\n",
    "from lyricwiki.connect import connect"
   ]
  },
  {
   "cell_type": "code",
   "execution_count": 3,
   "metadata": {},
   "outputs": [],
   "source": [
    "from lyricwiki.music import Artist, Album, Song\n",
    "from lyricwiki.utils import *\n",
    "from lyricwiki.scrape import *\n",
    "\n",
    "from lyricwiki import LyricWiki"
   ]
  },
  {
   "cell_type": "code",
   "execution_count": 4,
   "metadata": {},
   "outputs": [],
   "source": [
    "lyric_wiki = LyricWiki(verbose=False)"
   ]
  },
  {
   "cell_type": "code",
   "execution_count": 5,
   "metadata": {},
   "outputs": [],
   "source": [
    "artist = lyric_wiki.search_artist('daughter', cover=False, other=False)"
   ]
  },
  {
   "cell_type": "code",
   "execution_count": 6,
   "metadata": {},
   "outputs": [
    {
     "data": {
      "text/plain": [
       "[Daughter: EP \"His Young Heart\" (2011), Songs: 4,\n",
       " Daughter: EP \"The Wild Youth\" (2011), Songs: 4,\n",
       " Daughter: Album \"If You Leave\" (2013), Songs: 12,\n",
       " Daughter: Album \"Not To Disappear\" (2016), Songs: 11,\n",
       " Daughter: Album \"Music From Before The Storm\" (2017), Songs: 13,\n",
       " Daughter: Single \"Other Songs\", Songs: 1]"
      ]
     },
     "execution_count": 6,
     "metadata": {},
     "output_type": "execute_result"
    }
   ],
   "source": [
    "artist.get_albums()"
   ]
  },
  {
   "cell_type": "code",
   "execution_count": 7,
   "metadata": {},
   "outputs": [
    {
     "data": {
      "text/plain": [
       "[Daughter: EP \"His Young Heart\" (2011), Songs: 4,\n",
       " Daughter: EP \"The Wild Youth\" (2011), Songs: 4,\n",
       " Daughter: Album \"If You Leave\" (2013), Songs: 12,\n",
       " Daughter: Album \"Not To Disappear\" (2016), Songs: 11,\n",
       " Daughter: Album \"Music From Before The Storm\" (2017), Songs: 13,\n",
       " Daughter: Single \"Other Songs\", Songs: 1]"
      ]
     },
     "execution_count": 7,
     "metadata": {},
     "output_type": "execute_result"
    }
   ],
   "source": [
    "artist = Artist('Daughter')\n",
    "\n",
    "artist.get_albums(cover=False, other=False)"
   ]
  },
  {
   "cell_type": "code",
   "execution_count": 8,
   "metadata": {},
   "outputs": [],
   "source": [
    "album = lyric_wiki.search_album('foals', 'total life forever')"
   ]
  },
  {
   "cell_type": "code",
   "execution_count": 9,
   "metadata": {},
   "outputs": [
    {
     "data": {
      "text/plain": [
       "[Foals: \"Blue Blood\", from \"Total Life Forever\" (2010),\n",
       " Foals: \"Miami\", from \"Total Life Forever\" (2010),\n",
       " Foals: \"Total Life Forever\", from \"Total Life Forever\" (2010),\n",
       " Foals: \"Black Gold\", from \"Total Life Forever\" (2010),\n",
       " Foals: \"Spanish Sahara\", from \"Total Life Forever\" (2010),\n",
       " Foals: \"This Orient\", from \"Total Life Forever\" (2010),\n",
       " Foals: \"Fugue\", from \"Total Life Forever\" (2010),\n",
       " Foals: \"After Glow\", from \"Total Life Forever\" (2010),\n",
       " Foals: \"Alabaster\", from \"Total Life Forever\" (2010),\n",
       " Foals: \"2 Trees\", from \"Total Life Forever\" (2010),\n",
       " Foals: \"What Remains\", from \"Total Life Forever\" (2010),\n",
       " Foals: \"The Forked Road\", from \"Total Life Forever\" (2010),\n",
       " Foals: \"Wear & Tear\", from \"Total Life Forever\" (2010),\n",
       " Foals: \"Bloo Blood\", from \"Total Life Forever\" (2010),\n",
       " Foals: \"Bloo Blood 2\", from \"Total Life Forever\" (2010),\n",
       " Foals: \"TLF\", from \"Total Life Forever\" (2010),\n",
       " Foals: \"TLF 2\", from \"Total Life Forever\" (2010),\n",
       " Foals: \"TLF 3\", from \"Total Life Forever\" (2010),\n",
       " Foals: \"TLF 4\", from \"Total Life Forever\" (2010),\n",
       " Foals: \"TLF 5\", from \"Total Life Forever\" (2010),\n",
       " Foals: \"Black Gold\", from \"Total Life Forever\" (2010),\n",
       " Foals: \"Black Gold 2\", from \"Total Life Forever\" (2010),\n",
       " Foals: \"Spanish Sahara (Sonar)\", from \"Total Life Forever\" (2010),\n",
       " Foals: \"----\", from \"Total Life Forever\" (2010),\n",
       " Foals: \"Alabastr\", from \"Total Life Forever\" (2010),\n",
       " Foals: \"2 Trees\", from \"Total Life Forever\" (2010),\n",
       " Foals: \"Two Trees 2\", from \"Total Life Forever\" (2010),\n",
       " Foals: \"Remains\", from \"Total Life Forever\" (2010)]"
      ]
     },
     "execution_count": 9,
     "metadata": {},
     "output_type": "execute_result"
    }
   ],
   "source": [
    "album.get_songs()"
   ]
  },
  {
   "cell_type": "code",
   "execution_count": 13,
   "metadata": {},
   "outputs": [],
   "source": [
    "artist = Artist('daughter')\n",
    "album = Album('daugghter', 'the wild youth')\n",
    "artist.add_album(album, force=True)"
   ]
  },
  {
   "cell_type": "code",
   "execution_count": 14,
   "metadata": {},
   "outputs": [
    {
     "data": {
      "text/plain": [
       "Daughter: \"The Wild Youth\", Songs: 4"
      ]
     },
     "execution_count": 14,
     "metadata": {},
     "output_type": "execute_result"
    }
   ],
   "source": [
    "Album('daughter', 'the wild youth').get_songs()[0].get_album()"
   ]
  },
  {
   "cell_type": "code",
   "execution_count": 10,
   "metadata": {},
   "outputs": [
    {
     "data": {
      "text/plain": [
       "[Ex:Re: \"Where The Time Went\", from \"Ex:Re\" (2018),\n",
       " Ex:Re: \"Crushing\", from \"Ex:Re\" (2018),\n",
       " Ex:Re: \"New York\", from \"Ex:Re\" (2018),\n",
       " Ex:Re: \"Romance\", from \"Ex:Re\" (2018),\n",
       " Ex:Re: \"The Dazzler\", from \"Ex:Re\" (2018),\n",
       " Ex:Re: \"Too Sad\", from \"Ex:Re\" (2018),\n",
       " Ex:Re: \"Liar\", from \"Ex:Re\" (2018),\n",
       " Ex:Re: \"I Can't Keep You\", from \"Ex:Re\" (2018),\n",
       " Ex:Re: \"5AM\", from \"Ex:Re\" (2018),\n",
       " Ex:Re: \"My Heart\", from \"Ex:Re\" (2018)]"
      ]
     },
     "execution_count": 10,
     "metadata": {},
     "output_type": "execute_result"
    }
   ],
   "source": [
    "artist = Artist('ex:re')\n",
    "\n",
    "artist.get_songs(cover=True)"
   ]
  },
  {
   "cell_type": "code",
   "execution_count": 26,
   "metadata": {},
   "outputs": [],
   "source": [
    "data_json = artist.to_json()"
   ]
  },
  {
   "cell_type": "code",
   "execution_count": 21,
   "metadata": {},
   "outputs": [
    {
     "data": {
      "text/html": [
       "<div>\n",
       "<style scoped>\n",
       "    .dataframe tbody tr th:only-of-type {\n",
       "        vertical-align: middle;\n",
       "    }\n",
       "\n",
       "    .dataframe tbody tr th {\n",
       "        vertical-align: top;\n",
       "    }\n",
       "\n",
       "    .dataframe thead th {\n",
       "        text-align: right;\n",
       "    }\n",
       "</style>\n",
       "<table border=\"1\" class=\"dataframe\">\n",
       "  <thead>\n",
       "    <tr style=\"text-align: right;\">\n",
       "      <th></th>\n",
       "      <th>artist</th>\n",
       "      <th>album</th>\n",
       "      <th>year</th>\n",
       "      <th>song</th>\n",
       "      <th>lyrics</th>\n",
       "      <th>url</th>\n",
       "      <th>links</th>\n",
       "    </tr>\n",
       "  </thead>\n",
       "  <tbody>\n",
       "    <tr>\n",
       "      <th>0</th>\n",
       "      <td>Ex:Re</td>\n",
       "      <td>Ex:Re</td>\n",
       "      <td>2018</td>\n",
       "      <td>Where The Time Went</td>\n",
       "      <td>[Verse 1]\\nYou could open with your failings\\n...</td>\n",
       "      <td>https://lyrics.fandom.com/wiki/Ex:Re:Where_The...</td>\n",
       "      <td>{'Amazon': ['https://www.amazon.com/exec/obido...</td>\n",
       "    </tr>\n",
       "    <tr>\n",
       "      <th>1</th>\n",
       "      <td>Ex:Re</td>\n",
       "      <td>Ex:Re</td>\n",
       "      <td>2018</td>\n",
       "      <td>Crushing</td>\n",
       "      <td>Lean back half-rolled cigarette\\nNot speaking ...</td>\n",
       "      <td>https://lyrics.fandom.com/wiki/Ex:Re:Crushing</td>\n",
       "      <td>{'Amazon': ['https://www.amazon.com/exec/obido...</td>\n",
       "    </tr>\n",
       "    <tr>\n",
       "      <th>2</th>\n",
       "      <td>Ex:Re</td>\n",
       "      <td>Ex:Re</td>\n",
       "      <td>2018</td>\n",
       "      <td>New York</td>\n",
       "      <td>I was drunk\\nNew York, New York\\nI saw a small...</td>\n",
       "      <td>https://lyrics.fandom.com/wiki/Ex:Re:New_York</td>\n",
       "      <td>{'Amazon': ['https://www.amazon.com/exec/obido...</td>\n",
       "    </tr>\n",
       "    <tr>\n",
       "      <th>3</th>\n",
       "      <td>Ex:Re</td>\n",
       "      <td>Ex:Re</td>\n",
       "      <td>2018</td>\n",
       "      <td>Romance</td>\n",
       "      <td>And in the night, it was a drunken stutter\\nSt...</td>\n",
       "      <td>https://lyrics.fandom.com/wiki/Ex:Re:Romance</td>\n",
       "      <td>{'Amazon': ['https://www.amazon.com/exec/obido...</td>\n",
       "    </tr>\n",
       "    <tr>\n",
       "      <th>4</th>\n",
       "      <td>Ex:Re</td>\n",
       "      <td>Ex:Re</td>\n",
       "      <td>2018</td>\n",
       "      <td>The Dazzler</td>\n",
       "      <td>The night is young at the Dazzler\\nI spiked my...</td>\n",
       "      <td>https://lyrics.fandom.com/wiki/Ex:Re:The_Dazzler</td>\n",
       "      <td>{'Amazon': ['https://www.amazon.com/exec/obido...</td>\n",
       "    </tr>\n",
       "    <tr>\n",
       "      <th>5</th>\n",
       "      <td>Ex:Re</td>\n",
       "      <td>Ex:Re</td>\n",
       "      <td>2018</td>\n",
       "      <td>Too Sad</td>\n",
       "      <td>It's over the house\\nI can't stop it growing\\n...</td>\n",
       "      <td>https://lyrics.fandom.com/wiki/Ex:Re:Too_Sad</td>\n",
       "      <td>{'Amazon': ['https://www.amazon.com/exec/obido...</td>\n",
       "    </tr>\n",
       "    <tr>\n",
       "      <th>6</th>\n",
       "      <td>Ex:Re</td>\n",
       "      <td>Ex:Re</td>\n",
       "      <td>2018</td>\n",
       "      <td>Liar</td>\n",
       "      <td>Make me a price if you dare\\nMake me promises ...</td>\n",
       "      <td>https://lyrics.fandom.com/wiki/Ex:Re:Liar</td>\n",
       "      <td>{'Amazon': ['https://www.amazon.com/exec/obido...</td>\n",
       "    </tr>\n",
       "    <tr>\n",
       "      <th>7</th>\n",
       "      <td>Ex:Re</td>\n",
       "      <td>Ex:Re</td>\n",
       "      <td>2018</td>\n",
       "      <td>I Can't Keep You</td>\n",
       "      <td>Oh the rain, it's constant\\nNever mind if I'm ...</td>\n",
       "      <td>https://lyrics.fandom.com/wiki/Ex:Re:I_Can%27t...</td>\n",
       "      <td>{'Amazon': ['https://www.amazon.com/exec/obido...</td>\n",
       "    </tr>\n",
       "    <tr>\n",
       "      <th>8</th>\n",
       "      <td>Ex:Re</td>\n",
       "      <td>Ex:Re</td>\n",
       "      <td>2018</td>\n",
       "      <td>5AM</td>\n",
       "      <td>It's a 5AM wake up call, you're screaming\\nAnd...</td>\n",
       "      <td>https://lyrics.fandom.com/wiki/Ex:Re:5AM</td>\n",
       "      <td>{'Amazon': ['https://www.amazon.com/exec/obido...</td>\n",
       "    </tr>\n",
       "    <tr>\n",
       "      <th>9</th>\n",
       "      <td>Ex:Re</td>\n",
       "      <td>Ex:Re</td>\n",
       "      <td>2018</td>\n",
       "      <td>My Heart</td>\n",
       "      <td>When you laughed at my plan\\nAnd you mocked al...</td>\n",
       "      <td>https://lyrics.fandom.com/wiki/Ex:Re:My_Heart</td>\n",
       "      <td>{'Amazon': ['https://www.amazon.com/exec/obido...</td>\n",
       "    </tr>\n",
       "  </tbody>\n",
       "</table>\n",
       "</div>"
      ],
      "text/plain": [
       "  artist  album  year                 song  \\\n",
       "0  Ex:Re  Ex:Re  2018  Where The Time Went   \n",
       "1  Ex:Re  Ex:Re  2018             Crushing   \n",
       "2  Ex:Re  Ex:Re  2018             New York   \n",
       "3  Ex:Re  Ex:Re  2018              Romance   \n",
       "4  Ex:Re  Ex:Re  2018          The Dazzler   \n",
       "5  Ex:Re  Ex:Re  2018              Too Sad   \n",
       "6  Ex:Re  Ex:Re  2018                 Liar   \n",
       "7  Ex:Re  Ex:Re  2018     I Can't Keep You   \n",
       "8  Ex:Re  Ex:Re  2018                  5AM   \n",
       "9  Ex:Re  Ex:Re  2018             My Heart   \n",
       "\n",
       "                                              lyrics  \\\n",
       "0  [Verse 1]\\nYou could open with your failings\\n...   \n",
       "1  Lean back half-rolled cigarette\\nNot speaking ...   \n",
       "2  I was drunk\\nNew York, New York\\nI saw a small...   \n",
       "3  And in the night, it was a drunken stutter\\nSt...   \n",
       "4  The night is young at the Dazzler\\nI spiked my...   \n",
       "5  It's over the house\\nI can't stop it growing\\n...   \n",
       "6  Make me a price if you dare\\nMake me promises ...   \n",
       "7  Oh the rain, it's constant\\nNever mind if I'm ...   \n",
       "8  It's a 5AM wake up call, you're screaming\\nAnd...   \n",
       "9  When you laughed at my plan\\nAnd you mocked al...   \n",
       "\n",
       "                                                 url  \\\n",
       "0  https://lyrics.fandom.com/wiki/Ex:Re:Where_The...   \n",
       "1      https://lyrics.fandom.com/wiki/Ex:Re:Crushing   \n",
       "2      https://lyrics.fandom.com/wiki/Ex:Re:New_York   \n",
       "3       https://lyrics.fandom.com/wiki/Ex:Re:Romance   \n",
       "4   https://lyrics.fandom.com/wiki/Ex:Re:The_Dazzler   \n",
       "5       https://lyrics.fandom.com/wiki/Ex:Re:Too_Sad   \n",
       "6          https://lyrics.fandom.com/wiki/Ex:Re:Liar   \n",
       "7  https://lyrics.fandom.com/wiki/Ex:Re:I_Can%27t...   \n",
       "8           https://lyrics.fandom.com/wiki/Ex:Re:5AM   \n",
       "9      https://lyrics.fandom.com/wiki/Ex:Re:My_Heart   \n",
       "\n",
       "                                               links  \n",
       "0  {'Amazon': ['https://www.amazon.com/exec/obido...  \n",
       "1  {'Amazon': ['https://www.amazon.com/exec/obido...  \n",
       "2  {'Amazon': ['https://www.amazon.com/exec/obido...  \n",
       "3  {'Amazon': ['https://www.amazon.com/exec/obido...  \n",
       "4  {'Amazon': ['https://www.amazon.com/exec/obido...  \n",
       "5  {'Amazon': ['https://www.amazon.com/exec/obido...  \n",
       "6  {'Amazon': ['https://www.amazon.com/exec/obido...  \n",
       "7  {'Amazon': ['https://www.amazon.com/exec/obido...  \n",
       "8  {'Amazon': ['https://www.amazon.com/exec/obido...  \n",
       "9  {'Amazon': ['https://www.amazon.com/exec/obido...  "
      ]
     },
     "execution_count": 21,
     "metadata": {},
     "output_type": "execute_result"
    }
   ],
   "source": [
    "import pandas as pd\n",
    "\n",
    "df = pd.DataFrame(data_json['albums'][0]['songs'])\n",
    "df"
   ]
  },
  {
   "cell_type": "markdown",
   "metadata": {},
   "source": [
    "# Run on multiple artists"
   ]
  },
  {
   "cell_type": "code",
   "execution_count": 2,
   "metadata": {},
   "outputs": [],
   "source": [
    "ARTISTS = [\n",
    "    'Daughter', \n",
    "    'Julien Baker', \n",
    "    'Foals', \n",
    "    'Phoebe Bridgers', \n",
    "    'Billie Marten', \n",
    "    'Sóley', \n",
    "    'Agnes Obel', \n",
    "    'Fink', \n",
    "    'SoKo', \n",
    "    'Big Thief', \n",
    "    'Jess Williamson', \n",
    "    'Bon Iver', \n",
    "    'London Grammar',\n",
    "    'The XX', \n",
    "    'Wolf Alice',\n",
    "    'Sharon Van Etten',\n",
    "    'Lorde',\n",
    "    'Marika Hackman',\n",
    "    'Lola Marsh',\n",
    "    'Paloma Faith',\n",
    "    'Local Natives',\n",
    "    'Lykke Li',\n",
    "    'Birdy',\n",
    "    'Siv Jakobsen',\n",
    "    'Ex:Re',\n",
    "]"
   ]
  },
  {
   "cell_type": "code",
   "execution_count": 3,
   "metadata": {},
   "outputs": [
    {
     "name": "stdout",
     "output_type": "stream",
     "text": [
      "Connected to: https://lyrics.fandom.com/wiki/Daughter\n",
      "Connected to: https://lyrics.fandom.com/wiki/Julien_Baker\n",
      "Connected to: https://lyrics.fandom.com/wiki/Foals\n",
      "Connected to: https://lyrics.fandom.com/wiki/Phoebe_Bridgers\n",
      "Connected to: https://lyrics.fandom.com/wiki/Billie_Marten\n",
      "Connected to: https://lyrics.fandom.com/wiki/S%C3%B3ley\n",
      "Connected to: https://lyrics.fandom.com/wiki/Agnes_Obel\n",
      "Connected to: https://lyrics.fandom.com/wiki/Fink\n",
      "Connected to: https://lyrics.fandom.com/wiki/Soko\n",
      "Connected to: https://lyrics.fandom.com/wiki/Big_Thief\n",
      "Connected to: https://lyrics.fandom.com/wiki/Jess_Williamson\n",
      "Connected to: https://lyrics.fandom.com/wiki/Bon_Iver\n",
      "Connected to: https://lyrics.fandom.com/wiki/London_Grammar\n",
      "Connected to: https://lyrics.fandom.com/wiki/The_XX\n",
      "Connected to: https://lyrics.fandom.com/wiki/Wolf_Alice\n",
      "Connected to: https://lyrics.fandom.com/wiki/Sharon_Van_Etten\n",
      "Connected to: https://lyrics.fandom.com/wiki/Lorde\n",
      "Connected to: https://lyrics.fandom.com/wiki/Marika_Hackman\n",
      "Connected to: https://lyrics.fandom.com/wiki/Lola_Marsh\n",
      "Connected to: https://lyrics.fandom.com/wiki/Paloma_Faith\n",
      "Connected to: https://lyrics.fandom.com/wiki/Local_Natives\n",
      "Connected to: https://lyrics.fandom.com/wiki/Lykke_Li\n",
      "Connected to: https://lyrics.fandom.com/wiki/Birdy\n",
      "Connected to: https://lyrics.fandom.com/wiki/Siv_Jakobsen\n",
      "Connected to: https://lyrics.fandom.com/wiki/Ex:Re\n"
     ]
    }
   ],
   "source": [
    "from pyscrape.lyricwiki import LyricWiki\n",
    "\n",
    "lyric_wiki = LyricWiki(verbose=False)\n",
    "\n",
    "data = []\n",
    "for artist_name in ARTISTS:\n",
    "    artist = lyric_wiki.search_artist(artist_name)\n",
    "    data.append(artist.to_json(encode='ascii'))\n",
    "    print(f'Connected to: {artist.url}')"
   ]
  },
  {
   "cell_type": "code",
   "execution_count": 39,
   "metadata": {},
   "outputs": [],
   "source": [
    "import json\n",
    "\n",
    "with open('lyricwiki.json', 'w') as f:\n",
    "    json.dump({'artists': data}, f)"
   ]
  },
  {
   "cell_type": "code",
   "execution_count": null,
   "metadata": {},
   "outputs": [],
   "source": []
  },
  {
   "cell_type": "code",
   "execution_count": 29,
   "metadata": {},
   "outputs": [],
   "source": [
    "def to_gpt2(texts, prefix='\\n<|startoftext|>\\n', truncate='\\n<|endoftext|>\\n'):\n",
    "    dataset = \"\"\n",
    "    for text in texts:\n",
    "        dataset += prefix\n",
    "        dataset += text\n",
    "        dataset += truncate\n",
    "        \n",
    "    return dataset"
   ]
  },
  {
   "cell_type": "code",
   "execution_count": 30,
   "metadata": {},
   "outputs": [],
   "source": [
    "data_gpt2 = to_gpt2(df['lyrics'])\n",
    "\n",
    "with open('lyrics.txt', 'w') as f:\n",
    "    f.write(data_gpt2)"
   ]
  },
  {
   "cell_type": "code",
   "execution_count": null,
   "metadata": {},
   "outputs": [],
   "source": []
  },
  {
   "cell_type": "code",
   "execution_count": null,
   "metadata": {},
   "outputs": [],
   "source": []
  }
 ],
 "metadata": {
  "kernelspec": {
   "display_name": "Python 3",
   "language": "python",
   "name": "python3"
  },
  "language_info": {
   "codemirror_mode": {
    "name": "ipython",
    "version": 3
   },
   "file_extension": ".py",
   "mimetype": "text/x-python",
   "name": "python",
   "nbconvert_exporter": "python",
   "pygments_lexer": "ipython3",
   "version": "3.7.4"
  }
 },
 "nbformat": 4,
 "nbformat_minor": 4
}
